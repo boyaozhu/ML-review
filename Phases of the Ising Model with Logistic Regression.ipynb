{
 "cells": [
  {
   "cell_type": "markdown",
   "metadata": {},
   "source": [
    "## The goal of this notebook is to show how one can employ Logistic Regression to classify of the 2D Ising model according to their phase.  In other words, given an Ising state, we would like to classify whether it belongs to the ordered or the disordered phase, without any additional information other than the spin configuration itself. Moreover, I will discuss overfitting, regularization and learn how to use the sci-kit learn.  And we will also examine the role of the optimizer in making predictions."
   ]
  },
  {
   "cell_type": "markdown",
   "metadata": {},
   "source": [
    "#### Preparing the 2D Ising model on a $40\\times 40$ square lattice, and use Monte-Carlo sampling to prepare $10^4$ states at every fixed temperature $T$ out of a pre-defined set $T\\in[0.25,0.5,\\cdots,4.0]$"
   ]
  },
  {
   "cell_type": "code",
   "execution_count": 2,
   "metadata": {},
   "outputs": [],
   "source": [
    "import numpy as np\n",
    "import warnings\n",
    "warnings.filterwarnings('ignore')\n",
    "np.random.seed()\n",
    "\n",
    "L = 40\n",
    "J = -1.0\n",
    "T = np.linspace(0.25,4.0,16)\n",
    "T_c = 2.26 # theoretically critical temperature\n"
   ]
  },
  {
   "cell_type": "markdown",
   "metadata": {},
   "source": [
    "#### Load data"
   ]
  },
  {
   "cell_type": "code",
   "execution_count": 3,
   "metadata": {},
   "outputs": [],
   "source": [
    "import pickle, os\n",
    "from urllib.request import urlopen\n",
    "\n",
    "\n",
    "url_main = 'https://physics.bu.edu/~pankajm/ML-Review-Datasets/isingMC/'\n",
    "data_file_name = 'Ising2DFM_reSample_L40_T=All.pkl'\n",
    "label_file_name = 'Ising2DFM_reSample_L40_T=All_labels.pkl'\n",
    "\n",
    "data = pickle.load(urlopen(url_main+data_file_name))\n",
    "data = np.unpackbits(data).reshape(-1,1600).astype('int')\n",
    "data[np.where(data==0)] = -1\n",
    "# Convention is 1 for ordered states and 0 for disordered states\n",
    "labels = pickle.load(urlopen(url_main+label_file_name))\n"
   ]
  },
  {
   "cell_type": "markdown",
   "metadata": {},
   "source": [
    "#### Constructing the Training and the test sets"
   ]
  },
  {
   "cell_type": "code",
   "execution_count": 10,
   "metadata": {},
   "outputs": [
    {
     "name": "stdout",
     "output_type": "stream",
     "text": [
      "X_train shape: (104000, 1600)\n",
      "Y_train shape: (104000,)\n",
      "\n",
      "104000 train samples\n",
      "30000 critical samples\n",
      "26000 test samples\n"
     ]
    }
   ],
   "source": [
    "from sklearn.model_selection import train_test_split\n",
    "\n",
    "num_classes = 2\n",
    "train_to_test_ratio = 0.2\n",
    "\n",
    "X_ordered = data[:70000,:]\n",
    "Y_ordered = labels[:70000]\n",
    "\n",
    "X_critical = data[70000:100000,:]\n",
    "Y_critical = labels[70000:100000]\n",
    "\n",
    "X_disordered = data[100000:,:]\n",
    "Y_disordered = labels[100000:]\n",
    "\n",
    "\n",
    "X = np.concatenate((X_ordered, X_disordered))\n",
    "Y = np.concatenate((Y_ordered, Y_disordered))\n",
    "\n",
    "X_train, X_test, Y_train, Y_test = train_test_split(X,Y,test_size=train_to_test_ratio)\n",
    "\n",
    "del data, labels\n",
    "\n",
    "X = np.concatenate((X, X_critical))\n",
    "Y = np.concatenate((Y, Y_critical))\n",
    "\n",
    "print ('X_train shape:', X_train.shape)\n",
    "print ('Y_train shape:', Y_train.shape)\n",
    "print ()\n",
    "print (X_train.shape[0], 'train samples')\n",
    "print (X_critical.shape[0], 'critical samples')\n",
    "print (X_test.shape[0], 'test samples')\n",
    "\n"
   ]
  },
  {
   "cell_type": "markdown",
   "metadata": {},
   "source": [
    "#### Visualizing the states"
   ]
  },
  {
   "cell_type": "code",
   "execution_count": 13,
   "metadata": {},
   "outputs": [
    {
     "data": {
      "image/png": "[encoded data removed]",
      "text/plain": [
       "<Figure size 432x288 with 3 Axes>"
      ]
     },
     "metadata": {
      "needs_background": "light"
     },
     "output_type": "display_data"
    }
   ],
   "source": [
    "%matplotlib inline\n",
    "import matplotlib.pyplot as plt\n",
    "from mpl_toolkits.axes_grid1 import make_axes_locatable\n",
    "\n",
    "cmap_args = dict(cmap='plasma_r')\n",
    "\n",
    "fig, axarr = plt.subplots(nrows=1, ncols=3)\n",
    "\n",
    "axarr[0].imshow(X_ordered[20001].reshape(L,L),**cmap_args)\n",
    "axarr[0].set_title('$\\\\mathrm{ordered\\\\ phase}$', fontsize=12)\n",
    "axarr[0].tick_params(labelsize=12)\n",
    "\n",
    "axarr[1].imshow(X_critical[10001].reshape(L,L),**cmap_args)\n",
    "axarr[1].set_title('$\\\\mathrm{critical\\\\ phase}$', fontsize=12)\n",
    "axarr[1].tick_params(labelsize=12)\n",
    "\n",
    "im = axarr[2].imshow(X_disordered[50001].reshape(L,L),**cmap_args)\n",
    "axarr[2].set_title('$\\\\mathrm{disordered\\\\ phase}$', fontsize=12)\n",
    "axarr[2].tick_params(labelsize=12)\n",
    "\n",
    "fig.subplots_adjust(right=2.0)\n",
    "plt.show()"
   ]
  },
  {
   "cell_type": "code",
   "execution_count": 16,
   "metadata": {},
   "outputs": [
    {
     "name": "stdout",
     "output_type": "stream",
     "text": [
      "(11,)\n"
     ]
    }
   ],
   "source": [
    "from sklearn import linear_model\n",
    "from sklearn.neural_network import MLPClassifier\n",
    " \n",
    "lmbdas = np.logspace(-5,5,11)\n",
    "\n",
    "train_accuracy    = np.zeros(lmbdas.shape,np.float64)\n",
    "test_accuracy     = np.zeros(lmbdas.shape,np.float64)\n",
    "critical_accuracy = np.zeros(lmbdas.shape,np.float64)\n",
    "\n",
    "train_accuracy_SGD    = np.zeros(lmbdas.shape,np.float64)\n",
    "test_accuracy_SGD     = np.zeros(lmbdas.shape,np.float64)\n",
    "critical_accuracy_SGD = np.zeros(lmbdas.shape,np.float64)\n",
    "print (train_accuracy.shape)"
   ]
  },
  {
   "cell_type": "code",
   "execution_count": 31,
   "metadata": {},
   "outputs": [
    {
     "name": "stdout",
     "output_type": "stream",
     "text": [
      "accuracy: train, test, critical\n",
      "liblinear: 0.7113, 0.6803, 0.6347\n",
      "SDG: 0.4844, 0.4844, 0.4844\n",
      "finished computing 1/11 iterations\n",
      "accuracy: train, test, critical\n",
      "liblinear: 0.7113, 0.6803, 0.6347\n",
      "SDG: 0.4876, 0.4876, 0.4876\n",
      "finished computing 2/11 iterations\n",
      "accuracy: train, test, critical\n",
      "liblinear: 0.7113, 0.6803, 0.6347\n",
      "SDG: 0.7194, 0.7194, 0.7194\n",
      "finished computing 3/11 iterations\n",
      "accuracy: train, test, critical\n",
      "liblinear: 0.7113, 0.6803, 0.6347\n",
      "SDG: 0.4496, 0.4496, 0.4496\n",
      "finished computing 4/11 iterations\n",
      "accuracy: train, test, critical\n",
      "liblinear: 0.7113, 0.6803, 0.6347\n",
      "SDG: 0.6499, 0.6499, 0.6499\n",
      "finished computing 5/11 iterations\n",
      "accuracy: train, test, critical\n",
      "liblinear: 0.7113, 0.6803, 0.6347\n",
      "SDG: 0.5398, 0.5398, 0.5398\n",
      "finished computing 6/11 iterations\n",
      "accuracy: train, test, critical\n",
      "liblinear: 0.7112, 0.6802, 0.6347\n",
      "SDG: 0.4611, 0.4611, 0.4611\n",
      "finished computing 7/11 iterations\n",
      "accuracy: train, test, critical\n",
      "liblinear: 0.7109, 0.6797, 0.6355\n",
      "SDG: 0.4611, 0.4611, 0.4611\n",
      "finished computing 8/11 iterations\n",
      "accuracy: train, test, critical\n",
      "liblinear: 0.7072, 0.6763, 0.6423\n",
      "SDG: 0.4611, 0.4611, 0.4611\n",
      "finished computing 9/11 iterations\n",
      "accuracy: train, test, critical\n",
      "liblinear: 0.6862, 0.6575, 0.6683\n",
      "SDG: 0.4611, 0.4611, 0.4611\n",
      "finished computing 10/11 iterations\n",
      "accuracy: train, test, critical\n",
      "liblinear: 0.6692, 0.6492, 0.6779\n",
      "SDG: 0.4611, 0.4611, 0.4611\n",
      "finished computing 11/11 iterations\n"
     ]
    },
    {
     "data": {
      "image/png": "[encoded data removed]",
      "text/plain": [
       "<Figure size 432x288 with 1 Axes>"
      ]
     },
     "metadata": {
      "needs_background": "light"
     },
     "output_type": "display_data"
    }
   ],
   "source": [
    "for i, lmbda in enumerate(lmbdas):\n",
    "    logreg = linear_model.LogisticRegression(C=1.0/lmbda, random_state=42, verbose=0, max_iter=1E3,tol=1E-5, solver='liblinear')\n",
    "    logreg.fit(X_train, Y_train)\n",
    "    \n",
    "    train_accuracy[i] = logreg.score(X_train,Y_train)\n",
    "    test_accuracy[i] = logreg.score(X_test,Y_test)\n",
    "    critical_accuracy[i] = logreg.score(X_critical,Y_critical)\n",
    "    \n",
    "    print ('accuracy: train, test, critical')\n",
    "    print ('liblinear: %0.4f, %0.4f, %0.4f' %(train_accuracy[i],test_accuracy[i],critical_accuracy[i]))\n",
    "    \n",
    "    logreg_SGD = linear_model.SGDClassifier(loss='log',penalty='l2',alpha=lmbda,max_iter=100,shuffle=True,random_state=42,learning_rate='optimal')\n",
    "    logreg_SGD.fit(X_train, Y_train)\n",
    "           \n",
    "    train_accuracy_SGD[i] = logreg_SGD.score(X_train,Y_train)\n",
    "    test_accuracy_SGD[i] = logreg_SGD.score(X_train,Y_train)\n",
    "    critical_accuracy_SGD[i] = logreg_SGD.score(X_train,Y_train)\n",
    "           \n",
    "    print ('SDG: %0.4f, %0.4f, %0.4f' %(train_accuracy_SGD[i],test_accuracy_SGD[i],critical_accuracy_SGD[i]))\n",
    "    \n",
    "    print ('finished computing %i/11 iterations' %(i+1))\n",
    "\n",
    "plt.semilogx(lmbdas,train_accuracy,'*-b',label='liblinear train')\n",
    "plt.semilogx(lmbdas,test_accuracy,'*-r',label='liblinear test')\n",
    "plt.semilogx(lmbdas,critical_accuracy,'*-g',label='liblinear critical')\n",
    "\n",
    "plt.semilogx(lmbdas,train_accuracy_SGD,'*--b',label='SGD train')\n",
    "plt.semilogx(lmbdas,test_accuracy_SGD,'*--r',label='SGD test')\n",
    "plt.semilogx(lmbdas,critical_accuracy_SGD,'*--g',label='SGD critical')\n",
    "\n",
    "plt.xlabel('$\\\\lambda$')\n",
    "plt.ylabel('$\\\\mathrm{accuracy}$')\n",
    "plt.grid()\n",
    "plt.legend()\n",
    "plt.show()"
   ]
  },
  {
   "cell_type": "code",
   "execution_count": null,
   "metadata": {},
   "outputs": [],
   "source": []
  }
 ],
 "metadata": {
  "kernelspec": {
   "display_name": "Python 3",
   "language": "python",
   "name": "python3"
  },
  "language_info": {
   "codemirror_mode": {
    "name": "ipython",
    "version": 3
   },
   "file_extension": ".py",
   "mimetype": "text/x-python",
   "name": "python",
   "nbconvert_exporter": "python",
   "pygments_lexer": "ipython3",
   "version": "3.7.3"
  }
 },
 "nbformat": 4,
 "nbformat_minor": 2
}
