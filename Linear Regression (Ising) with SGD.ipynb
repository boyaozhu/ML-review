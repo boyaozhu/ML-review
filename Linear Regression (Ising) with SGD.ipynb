{
 "cells": [
  {
   "cell_type": "code",
   "execution_count": 1,
   "metadata": {},
   "outputs": [
    {
     "name": "stdout",
     "output_type": "stream",
     "text": [
      "(10000, 50)\n"
     ]
    }
   ],
   "source": [
    "import numpy as np\n",
    "import scipy.sparse as sp\n",
    "np.random.seed()\n",
    "\n",
    "L = 50\n",
    "\n",
    "states = np.random.choice([-1,1],size=(10000,L))\n",
    "print (states.shape)"
   ]
  },
  {
   "cell_type": "code",
   "execution_count": 2,
   "metadata": {},
   "outputs": [],
   "source": [
    "def ising_energies(states):\n",
    "    L = states.shape[1]\n",
    "    J = np.zeros((L,L),)\n",
    "    for i in range(L):\n",
    "        J[i,(i+1)%L] = -1.0\n",
    "    E = np.einsum('...i,ij,...j->...',states,J,states)\n",
    "    return E\n",
    "\n",
    "energies = ising_energies(states)"
   ]
  },
  {
   "cell_type": "code",
   "execution_count": 3,
   "metadata": {},
   "outputs": [
    {
     "name": "stdout",
     "output_type": "stream",
     "text": [
      "(10000, 50, 50)\n"
     ]
    }
   ],
   "source": [
    "states = np.einsum('...i,...j->...ij',states,states)\n",
    "shape = states.shape\n",
    "print (shape)\n",
    "states = states.reshape((shape[0],shape[1]*shape[2]))\n",
    "Data = [states,energies]"
   ]
  },
  {
   "cell_type": "code",
   "execution_count": 4,
   "metadata": {},
   "outputs": [],
   "source": [
    "from sklearn.model_selection import train_test_split\n",
    "from sklearn.metrics import mean_squared_error\n",
    "\n",
    "X_train,X_test,y_train,y_test = train_test_split(Data[0],Data[1],test_size=0.2)"
   ]
  },
  {
   "cell_type": "code",
   "execution_count": 42,
   "metadata": {},
   "outputs": [
    {
     "data": {
      "image/png": "[encoded data removed]",
      "text/plain": [
       "<Figure size 432x288 with 1 Axes>"
      ]
     },
     "metadata": {
      "needs_background": "light"
     },
     "output_type": "display_data"
    }
   ],
   "source": [
    "import matplotlib.pyplot as plt\n",
    "from mpl_toolkits.axes_grid1 import make_axes_locatable\n",
    "import seaborn\n",
    "\n",
    "n_epoch = 50\n",
    "t0, t1 = 5, 50\n",
    "\n",
    "def learning_schedule(t):\n",
    "    return (t0/(t1+t))\n",
    "\n",
    "J = np.random.randn(L*L,1)\n",
    "\n",
    "for epoch in range(n_epoch):\n",
    "    for i in range(10000):\n",
    "        random_index = np.random.randint(10000)\n",
    "        xi = Data[0][random_index:random_index+1]\n",
    "        yi = Data[1][random_index:random_index+1]\n",
    "        gradients = 2*xi.T.dot(xi.dot(J)-yi)\n",
    "        eta = learning_schedule(epoch*10000+i)\n",
    "        J = J - eta*gradients\n",
    "\n",
    "J_new = np.array(J).reshape((L,L))\n",
    "\n",
    "\n",
    "cmap_args = dict(vmin=-1.0, vmax=1.0, cmap='seismic')\n",
    "\n",
    "plt.imshow(J_new,**cmap_args)\n",
    "plt.title('SGD',fontsize=10)\n",
    "plt.tick_params(labelsize=10)\n",
    "plt.show()"
   ]
  },
  {
   "cell_type": "code",
   "execution_count": 40,
   "metadata": {},
   "outputs": [
    {
     "name": "stdout",
     "output_type": "stream",
     "text": [
      "[1.96795166e+09] [ 1.96795166e+09  1.87725307e+09 -3.91730852e+10 ...  5.38083182e+10\n",
      " -6.75576118e+10  1.96795166e+09]\n",
      "(1,) (2500,)\n"
     ]
    }
   ],
   "source": [
    "from sklearn.linear_model import SGDRegressor\n",
    "\n",
    "sgd_reg = SGDRegressor(max_iter=1000, tol=1e-3, penalty=None, eta0=0.1)\n",
    "sgd_reg.fit(X_train,y_train.ravel())\n",
    "\n",
    "print (sgd_reg.intercept_, sgd_reg.coef_)\n",
    "print (sgd_reg.intercept_.shape, sgd_reg.coef_.shape)\n",
    "\n"
   ]
  },
  {
   "cell_type": "code",
   "execution_count": 43,
   "metadata": {},
   "outputs": [
    {
     "data": {
      "text/plain": [
       "<matplotlib.image.AxesImage at 0x1a4007eac8>"
      ]
     },
     "execution_count": 43,
     "metadata": {},
     "output_type": "execute_result"
    },
    {
     "data": {
      "image/png": "[encoded data removed]",
      "text/plain": [
       "<Figure size 432x288 with 1 Axes>"
      ]
     },
     "metadata": {
      "needs_background": "light"
     },
     "output_type": "display_data"
    }
   ],
   "source": [
    "J = np.array(sgd_reg.coef_).reshape((L,L))\n",
    "plt.imshow(J,**cmap_args)\n"
   ]
  },
  {
   "cell_type": "code",
   "execution_count": 45,
   "metadata": {},
   "outputs": [
    {
     "name": "stdout",
     "output_type": "stream",
     "text": [
      "inf\n"
     ]
    }
   ],
   "source": [
    "\n",
    "\n",
    "print (np.linalg.norm(J-J_new))"
   ]
  },
  {
   "cell_type": "code",
   "execution_count": null,
   "metadata": {},
   "outputs": [],
   "source": []
  }
 ],
 "metadata": {
  "kernelspec": {
   "display_name": "Python 3",
   "language": "python",
   "name": "python3"
  },
  "language_info": {
   "codemirror_mode": {
    "name": "ipython",
    "version": 3
   },
   "file_extension": ".py",
   "mimetype": "text/x-python",
   "name": "python",
   "nbconvert_exporter": "python",
   "pygments_lexer": "ipython3",
   "version": "3.7.3"
  }
 },
 "nbformat": 4,
 "nbformat_minor": 2
}
